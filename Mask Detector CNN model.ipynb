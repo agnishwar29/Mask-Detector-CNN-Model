{
 "cells": [
  {
   "cell_type": "code",
   "execution_count": 1,
   "id": "74360648",
   "metadata": {},
   "outputs": [],
   "source": [
    "import pickle"
   ]
  },
  {
   "cell_type": "code",
   "execution_count": 2,
   "id": "42559efd",
   "metadata": {},
   "outputs": [],
   "source": [
    "pickle_in =open( \"mask_data.pickle\",'rb')\n",
    "X = pickle.load(pickle_in)"
   ]
  },
  {
   "cell_type": "code",
   "execution_count": 3,
   "id": "91fc2b70",
   "metadata": {},
   "outputs": [],
   "source": [
    "pickling = open(\"mask_labels.pickle\",\"rb\")\n",
    "y = pickle.load(pickling)"
   ]
  },
  {
   "cell_type": "code",
   "execution_count": 4,
   "id": "3a3e8341",
   "metadata": {},
   "outputs": [
    {
     "data": {
      "text/plain": [
       "0"
      ]
     },
     "execution_count": 4,
     "metadata": {},
     "output_type": "execute_result"
    }
   ],
   "source": [
    "y[0]"
   ]
  },
  {
   "cell_type": "code",
   "execution_count": 5,
   "id": "49a2d74f",
   "metadata": {},
   "outputs": [],
   "source": [
    "import numpy as np\n",
    "y = np.array(y)"
   ]
  },
  {
   "cell_type": "code",
   "execution_count": 6,
   "id": "9d80cdf3",
   "metadata": {},
   "outputs": [
    {
     "data": {
      "text/plain": [
       "array([0, 0, 0, 0, 1])"
      ]
     },
     "execution_count": 6,
     "metadata": {},
     "output_type": "execute_result"
    }
   ],
   "source": [
    "y[:5]"
   ]
  },
  {
   "cell_type": "code",
   "execution_count": 7,
   "id": "11e3054e",
   "metadata": {},
   "outputs": [
    {
     "data": {
      "text/plain": [
       "array([[[154],\n",
       "        [164],\n",
       "        [145],\n",
       "        ...,\n",
       "        [ 43],\n",
       "        [ 43],\n",
       "        [ 43]],\n",
       "\n",
       "       [[152],\n",
       "        [162],\n",
       "        [137],\n",
       "        ...,\n",
       "        [ 45],\n",
       "        [ 42],\n",
       "        [ 46]],\n",
       "\n",
       "       [[158],\n",
       "        [162],\n",
       "        [133],\n",
       "        ...,\n",
       "        [ 42],\n",
       "        [ 42],\n",
       "        [ 43]],\n",
       "\n",
       "       ...,\n",
       "\n",
       "       [[141],\n",
       "        [115],\n",
       "        [101],\n",
       "        ...,\n",
       "        [ 27],\n",
       "        [ 25],\n",
       "        [ 24]],\n",
       "\n",
       "       [[146],\n",
       "        [137],\n",
       "        [ 96],\n",
       "        ...,\n",
       "        [ 30],\n",
       "        [ 28],\n",
       "        [ 25]],\n",
       "\n",
       "       [[149],\n",
       "        [150],\n",
       "        [129],\n",
       "        ...,\n",
       "        [ 29],\n",
       "        [ 25],\n",
       "        [ 24]]], dtype=uint8)"
      ]
     },
     "execution_count": 7,
     "metadata": {},
     "output_type": "execute_result"
    }
   ],
   "source": [
    "X[0]"
   ]
  },
  {
   "cell_type": "code",
   "execution_count": 8,
   "id": "df135f2c",
   "metadata": {},
   "outputs": [],
   "source": [
    "from sklearn.model_selection import train_test_split"
   ]
  },
  {
   "cell_type": "code",
   "execution_count": 9,
   "id": "241eae4f",
   "metadata": {},
   "outputs": [],
   "source": [
    "X_train,X_test, y_train,y_test = train_test_split(X,y, test_size=0.2)"
   ]
  },
  {
   "cell_type": "code",
   "execution_count": 10,
   "id": "e29d7642",
   "metadata": {},
   "outputs": [
    {
     "data": {
      "text/plain": [
       "(1107, 50, 50, 1)"
      ]
     },
     "execution_count": 10,
     "metadata": {},
     "output_type": "execute_result"
    }
   ],
   "source": [
    "X_train.shape"
   ]
  },
  {
   "cell_type": "code",
   "execution_count": 11,
   "id": "95ecfe54",
   "metadata": {},
   "outputs": [
    {
     "data": {
      "text/plain": [
       "array([1, 0, 0, 0, 0])"
      ]
     },
     "execution_count": 11,
     "metadata": {},
     "output_type": "execute_result"
    }
   ],
   "source": [
    "y_train[:5]"
   ]
  },
  {
   "cell_type": "code",
   "execution_count": 12,
   "id": "37063e50",
   "metadata": {},
   "outputs": [],
   "source": [
    "import tensorflow as tf\n",
    "from tensorflow import keras\n",
    "from tensorflow.keras import datasets, layers, models\n",
    "import numpy as np\n",
    "from keras.layers import Dense, Activation, Flatten"
   ]
  },
  {
   "cell_type": "code",
   "execution_count": 13,
   "id": "9517862b",
   "metadata": {},
   "outputs": [],
   "source": [
    "cnn = models.Sequential([\n",
    "   \n",
    "    layers.Conv2D(filters=16, kernel_size=(3,3), activation='relu', input_shape=(50,50,1)),   \n",
    "    layers.MaxPooling2D((2,2)), \n",
    "    \n",
    "    layers.Conv2D(filters=32, kernel_size=(3,3), activation='relu'),\n",
    "    layers.MaxPooling2D((2,2)),\n",
    "    \n",
    "    layers.Conv2D(filters=64, kernel_size=(3,3), activation='relu'),\n",
    "    layers.MaxPooling2D((2,2)),\n",
    "    \n",
    "    #dense\n",
    "    layers.Flatten(),\n",
    "    layers.Dense(512, activation=\"relu\"),\n",
    "    layers.Dense(1, activation=\"sigmoid\")\n",
    "])"
   ]
  },
  {
   "cell_type": "code",
   "execution_count": 14,
   "id": "9535c27b",
   "metadata": {},
   "outputs": [],
   "source": [
    "cnn.compile(optimizer='adam',\n",
    "             loss='binary_crossentropy',\n",
    "             metrics=['accuracy'])\n"
   ]
  },
  {
   "cell_type": "code",
   "execution_count": 15,
   "id": "0b3f7b05",
   "metadata": {},
   "outputs": [
    {
     "name": "stdout",
     "output_type": "stream",
     "text": [
      "Model: \"sequential\"\n",
      "_________________________________________________________________\n",
      " Layer (type)                Output Shape              Param #   \n",
      "=================================================================\n",
      " conv2d (Conv2D)             (None, 48, 48, 16)        160       \n",
      "                                                                 \n",
      " max_pooling2d (MaxPooling2D  (None, 24, 24, 16)       0         \n",
      " )                                                               \n",
      "                                                                 \n",
      " conv2d_1 (Conv2D)           (None, 22, 22, 32)        4640      \n",
      "                                                                 \n",
      " max_pooling2d_1 (MaxPooling  (None, 11, 11, 32)       0         \n",
      " 2D)                                                             \n",
      "                                                                 \n",
      " conv2d_2 (Conv2D)           (None, 9, 9, 64)          18496     \n",
      "                                                                 \n",
      " max_pooling2d_2 (MaxPooling  (None, 4, 4, 64)         0         \n",
      " 2D)                                                             \n",
      "                                                                 \n",
      " flatten (Flatten)           (None, 1024)              0         \n",
      "                                                                 \n",
      " dense (Dense)               (None, 512)               524800    \n",
      "                                                                 \n",
      " dense_1 (Dense)             (None, 1)                 513       \n",
      "                                                                 \n",
      "=================================================================\n",
      "Total params: 548,609\n",
      "Trainable params: 548,609\n",
      "Non-trainable params: 0\n",
      "_________________________________________________________________\n"
     ]
    }
   ],
   "source": [
    "cnn.summary()"
   ]
  },
  {
   "cell_type": "code",
   "execution_count": 16,
   "id": "ade97ca4",
   "metadata": {},
   "outputs": [
    {
     "name": "stdout",
     "output_type": "stream",
     "text": [
      "Epoch 1/20\n",
      "35/35 [==============================] - 1s 27ms/step - loss: 2.8843 - accuracy: 0.7227 0s - loss: 3.5950 - accuracy\n",
      "Epoch 2/20\n",
      "35/35 [==============================] - 1s 26ms/step - loss: 0.2185 - accuracy: 0.9115\n",
      "Epoch 3/20\n",
      "35/35 [==============================] - 1s 26ms/step - loss: 0.1128 - accuracy: 0.9612\n",
      "Epoch 4/20\n",
      "35/35 [==============================] - 1s 26ms/step - loss: 0.0914 - accuracy: 0.9720\n",
      "Epoch 5/20\n",
      "35/35 [==============================] - 1s 26ms/step - loss: 0.1029 - accuracy: 0.9566\n",
      "Epoch 6/20\n",
      "35/35 [==============================] - 1s 26ms/step - loss: 0.0699 - accuracy: 0.9738\n",
      "Epoch 7/20\n",
      "35/35 [==============================] - 1s 27ms/step - loss: 0.0519 - accuracy: 0.9801\n",
      "Epoch 8/20\n",
      "35/35 [==============================] - 1s 26ms/step - loss: 0.0428 - accuracy: 0.9855\n",
      "Epoch 9/20\n",
      "35/35 [==============================] - 1s 27ms/step - loss: 0.0310 - accuracy: 0.9910\n",
      "Epoch 10/20\n",
      "35/35 [==============================] - 1s 26ms/step - loss: 0.0312 - accuracy: 0.9892\n",
      "Epoch 11/20\n",
      "35/35 [==============================] - 1s 27ms/step - loss: 0.0268 - accuracy: 0.9919\n",
      "Epoch 12/20\n",
      "35/35 [==============================] - 1s 27ms/step - loss: 0.0143 - accuracy: 0.9964\n",
      "Epoch 13/20\n",
      "35/35 [==============================] - 1s 27ms/step - loss: 0.0123 - accuracy: 0.9946\n",
      "Epoch 14/20\n",
      "35/35 [==============================] - 1s 27ms/step - loss: 0.0065 - accuracy: 0.9991\n",
      "Epoch 15/20\n",
      "35/35 [==============================] - 1s 26ms/step - loss: 0.0122 - accuracy: 0.9946\n",
      "Epoch 16/20\n",
      "35/35 [==============================] - 1s 28ms/step - loss: 0.0143 - accuracy: 0.9964\n",
      "Epoch 17/20\n",
      "35/35 [==============================] - 1s 27ms/step - loss: 0.0062 - accuracy: 0.9982\n",
      "Epoch 18/20\n",
      "35/35 [==============================] - 1s 27ms/step - loss: 0.0031 - accuracy: 1.0000\n",
      "Epoch 19/20\n",
      "35/35 [==============================] - 1s 27ms/step - loss: 0.0012 - accuracy: 1.0000\n",
      "Epoch 20/20\n",
      "35/35 [==============================] - 1s 27ms/step - loss: 6.0357e-04 - accuracy: 1.0000\n"
     ]
    },
    {
     "data": {
      "text/plain": [
       "<keras.callbacks.History at 0x1d3ba840a90>"
      ]
     },
     "execution_count": 16,
     "metadata": {},
     "output_type": "execute_result"
    }
   ],
   "source": [
    "cnn.fit(X_train,y_train, epochs=20)"
   ]
  },
  {
   "cell_type": "code",
   "execution_count": 17,
   "id": "f4448418",
   "metadata": {},
   "outputs": [
    {
     "name": "stdout",
     "output_type": "stream",
     "text": [
      "9/9 [==============================] - 0s 10ms/step - loss: 0.1172 - accuracy: 0.9711\n"
     ]
    },
    {
     "data": {
      "text/plain": [
       "[0.11721692979335785, 0.9711191058158875]"
      ]
     },
     "execution_count": 17,
     "metadata": {},
     "output_type": "execute_result"
    }
   ],
   "source": [
    "cnn.evaluate(X_test,y_test)"
   ]
  },
  {
   "cell_type": "code",
   "execution_count": 18,
   "id": "f0dfa55c",
   "metadata": {},
   "outputs": [],
   "source": [
    "y_pred = cnn.predict(X_test)"
   ]
  },
  {
   "cell_type": "code",
   "execution_count": 19,
   "id": "cf4cc819",
   "metadata": {},
   "outputs": [
    {
     "data": {
      "text/plain": [
       "array([[9.9999678e-01],\n",
       "       [9.9999505e-01],\n",
       "       [1.7632519e-11],\n",
       "       [3.2877611e-07],\n",
       "       [1.0000000e+00]], dtype=float32)"
      ]
     },
     "execution_count": 19,
     "metadata": {},
     "output_type": "execute_result"
    }
   ],
   "source": [
    "y_pred[:5]"
   ]
  },
  {
   "cell_type": "code",
   "execution_count": 20,
   "id": "777fe264",
   "metadata": {},
   "outputs": [
    {
     "data": {
      "text/plain": [
       "[1, 1, 0, 0, 1]"
      ]
     },
     "execution_count": 20,
     "metadata": {},
     "output_type": "execute_result"
    }
   ],
   "source": [
    "y_predicted = []\n",
    "\n",
    "for i in y_pred:\n",
    "    if i >0.5:\n",
    "        y_predicted.append(1)\n",
    "    else:\n",
    "        y_predicted.append(0)\n",
    "y_predicted[:5]"
   ]
  },
  {
   "cell_type": "code",
   "execution_count": 21,
   "id": "d58efd19",
   "metadata": {},
   "outputs": [],
   "source": [
    "cm = tf.math.confusion_matrix(labels=y_test,predictions=y_predicted)"
   ]
  },
  {
   "cell_type": "code",
   "execution_count": 22,
   "id": "0aa57621",
   "metadata": {},
   "outputs": [
    {
     "data": {
      "text/plain": [
       "<tf.Tensor: shape=(2, 2), dtype=int32, numpy=\n",
       "array([[193,   3],\n",
       "       [  5,  76]])>"
      ]
     },
     "execution_count": 22,
     "metadata": {},
     "output_type": "execute_result"
    }
   ],
   "source": [
    "cm"
   ]
  },
  {
   "cell_type": "code",
   "execution_count": 23,
   "id": "a0031bd7",
   "metadata": {},
   "outputs": [],
   "source": [
    "import matplotlib.pyplot as plt\n",
    "import seaborn as sn\n",
    "%matplotlib inline"
   ]
  },
  {
   "cell_type": "code",
   "execution_count": 24,
   "id": "8993c39c",
   "metadata": {},
   "outputs": [
    {
     "data": {
      "text/plain": [
       "Text(69.0, 0.5, 'Truth')"
      ]
     },
     "execution_count": 24,
     "metadata": {},
     "output_type": "execute_result"
    },
    {
     "data": {
      "image/png": "[encoded data removed]",
      "text/plain": [
       "<Figure size 720x504 with 2 Axes>"
      ]
     },
     "metadata": {
      "needs_background": "light"
     },
     "output_type": "display_data"
    }
   ],
   "source": [
    "plt.figure(figsize=(10,7))\n",
    "sn.heatmap(cm, annot=True, fmt='d')\n",
    "plt.xlabel(\"Predictions\")\n",
    "plt.ylabel(\"Truth\")"
   ]
  },
  {
   "cell_type": "code",
   "execution_count": null,
   "id": "8c5ffe61",
   "metadata": {},
   "outputs": [],
   "source": []
  },
  {
   "cell_type": "code",
   "execution_count": 25,
   "id": "09e8a7b2",
   "metadata": {},
   "outputs": [],
   "source": [
    "names = {0: 'with Mask',1:'without Mask'}"
   ]
  },
  {
   "cell_type": "code",
   "execution_count": 26,
   "id": "7af93523",
   "metadata": {},
   "outputs": [],
   "source": [
    "import cv2\n",
    "haar_data = cv2.CascadeClassifier('haarcascade_frontalface_default.xml') "
   ]
  },
  {
   "cell_type": "code",
   "execution_count": 38,
   "id": "0ce34bd0",
   "metadata": {},
   "outputs": [
    {
     "name": "stdout",
     "output_type": "stream",
     "text": [
      "without Mask\n",
      "without Mask\n",
      "without Mask\n",
      "without Mask\n",
      "without Mask\n",
      "without Mask\n",
      "without Mask\n",
      "without Mask\n",
      "without Mask\n",
      "without Mask\n",
      "without Mask\n",
      "without Mask\n",
      "without Mask\n",
      "without Mask\n",
      "without Mask\n",
      "without Mask\n",
      "without Mask\n",
      "without Mask\n",
      "without Mask\n",
      "without Mask\n",
      "without Mask\n",
      "without Mask\n",
      "without Mask\n",
      "without Mask\n",
      "without Mask\n",
      "without Mask\n",
      "without Mask\n",
      "without Mask\n",
      "without Mask\n",
      "without Mask\n",
      "without Mask\n",
      "without Mask\n",
      "without Mask\n",
      "without Mask\n",
      "without Mask\n",
      "without Mask\n",
      "without Mask\n",
      "without Mask\n",
      "without Mask\n",
      "without Mask\n",
      "without Mask\n",
      "without Mask\n",
      "without Mask\n",
      "without Mask\n",
      "without Mask\n",
      "without Mask\n",
      "without Mask\n",
      "without Mask\n",
      "without Mask\n",
      "without Mask\n",
      "without Mask\n",
      "without Mask\n",
      "without Mask\n",
      "without Mask\n",
      "without Mask\n",
      "without Mask\n",
      "without Mask\n",
      "without Mask\n",
      "without Mask\n",
      "without Mask\n",
      "without Mask\n",
      "without Mask\n",
      "without Mask\n",
      "without Mask\n",
      "without Mask\n",
      "without Mask\n",
      "without Mask\n",
      "without Mask\n",
      "without Mask\n",
      "without Mask\n",
      "without Mask\n",
      "without Mask\n",
      "without Mask\n",
      "without Mask\n",
      "without Mask\n",
      "without Mask\n",
      "without Mask\n",
      "without Mask\n",
      "without Mask\n",
      "without Mask\n",
      "without Mask\n",
      "without Mask\n",
      "without Mask\n",
      "without Mask\n",
      "without Mask\n",
      "without Mask\n",
      "without Mask\n",
      "without Mask\n",
      "without Mask\n",
      "without Mask\n",
      "without Mask\n",
      "without Mask\n",
      "without Mask\n",
      "without Mask\n",
      "without Mask\n",
      "without Mask\n",
      "without Mask\n",
      "without Mask\n",
      "without Mask\n",
      "without Mask\n",
      "without Mask\n",
      "without Mask\n",
      "without Mask\n",
      "without Mask\n",
      "without Mask\n",
      "without Mask\n",
      "without Mask\n",
      "without Mask\n",
      "without Mask\n",
      "without Mask\n",
      "without Mask\n",
      "without Mask\n",
      "without Mask\n",
      "without Mask\n",
      "without Mask\n",
      "without Mask\n",
      "without Mask\n",
      "without Mask\n",
      "without Mask\n",
      "without Mask\n",
      "without Mask\n",
      "without Mask\n",
      "without Mask\n",
      "without Mask\n",
      "without Mask\n",
      "without Mask\n",
      "without Mask\n",
      "without Mask\n",
      "without Mask\n",
      "without Mask\n",
      "without Mask\n",
      "without Mask\n",
      "without Mask\n",
      "without Mask\n",
      "without Mask\n",
      "without Mask\n",
      "without Mask\n",
      "without Mask\n",
      "without Mask\n",
      "without Mask\n",
      "without Mask\n",
      "without Mask\n",
      "without Mask\n",
      "without Mask\n",
      "without Mask\n",
      "without Mask\n",
      "without Mask\n",
      "without Mask\n",
      "without Mask\n",
      "without Mask\n",
      "without Mask\n",
      "without Mask\n",
      "without Mask\n",
      "without Mask\n",
      "without Mask\n",
      "without Mask\n",
      "without Mask\n",
      "without Mask\n",
      "without Mask\n",
      "without Mask\n",
      "without Mask\n",
      "without Mask\n",
      "without Mask\n",
      "without Mask\n",
      "without Mask\n",
      "without Mask\n",
      "without Mask\n",
      "without Mask\n",
      "without Mask\n",
      "without Mask\n",
      "without Mask\n",
      "without Mask\n",
      "without Mask\n",
      "without Mask\n",
      "without Mask\n",
      "without Mask\n",
      "without Mask\n",
      "without Mask\n",
      "without Mask\n",
      "without Mask\n",
      "without Mask\n",
      "without Mask\n",
      "without Mask\n",
      "without Mask\n",
      "without Mask\n",
      "without Mask\n",
      "without Mask\n",
      "without Mask\n",
      "without Mask\n",
      "without Mask\n",
      "without Mask\n",
      "without Mask\n",
      "without Mask\n",
      "without Mask\n",
      "without Mask\n",
      "without Mask\n",
      "without Mask\n",
      "without Mask\n",
      "without Mask\n",
      "with Mask\n",
      "without Mask\n",
      "without Mask\n",
      "without Mask\n",
      "without Mask\n",
      "without Mask\n",
      "without Mask\n",
      "without Mask\n",
      "without Mask\n",
      "without Mask\n",
      "with Mask\n",
      "without Mask\n",
      "without Mask\n",
      "without Mask\n",
      "without Mask\n",
      "with Mask\n",
      "without Mask\n",
      "without Mask\n",
      "without Mask\n",
      "without Mask\n",
      "without Mask\n",
      "without Mask\n",
      "without Mask\n",
      "without Mask\n",
      "without Mask\n",
      "without Mask\n",
      "without Mask\n",
      "without Mask\n",
      "without Mask\n",
      "without Mask\n",
      "without Mask\n",
      "without Mask\n",
      "without Mask\n",
      "without Mask\n",
      "without Mask\n",
      "without Mask\n",
      "without Mask\n",
      "without Mask\n",
      "without Mask\n",
      "without Mask\n",
      "without Mask\n",
      "without Mask\n",
      "without Mask\n",
      "without Mask\n",
      "without Mask\n",
      "without Mask\n",
      "without Mask\n",
      "without Mask\n",
      "without Mask\n",
      "without Mask\n",
      "without Mask\n",
      "without Mask\n",
      "without Mask\n",
      "without Mask\n",
      "without Mask\n",
      "without Mask\n",
      "without Mask\n",
      "without Mask\n",
      "without Mask\n",
      "without Mask\n",
      "without Mask\n",
      "without Mask\n",
      "without Mask\n",
      "without Mask\n",
      "without Mask\n",
      "without Mask\n",
      "without Mask\n",
      "without Mask\n",
      "without Mask\n",
      "without Mask\n",
      "without Mask\n",
      "without Mask\n",
      "without Mask\n",
      "without Mask\n",
      "without Mask\n",
      "without Mask\n",
      "without Mask\n",
      "without Mask\n",
      "without Mask\n",
      "without Mask\n",
      "without Mask\n",
      "without Mask\n",
      "without Mask\n",
      "without Mask\n",
      "without Mask\n",
      "without Mask\n",
      "without Mask\n",
      "with Mask\n",
      "without Mask\n",
      "with Mask\n",
      "with Mask\n",
      "without Mask\n",
      "with Mask\n",
      "with Mask\n",
      "with Mask\n",
      "without Mask\n",
      "without Mask\n",
      "without Mask\n",
      "without Mask\n",
      "without Mask\n",
      "without Mask\n",
      "without Mask\n",
      "without Mask\n",
      "without Mask\n",
      "without Mask\n",
      "without Mask\n",
      "without Mask\n",
      "without Mask\n",
      "without Mask\n",
      "without Mask\n",
      "without Mask\n",
      "without Mask\n",
      "without Mask\n",
      "without Mask\n",
      "without Mask\n",
      "without Mask\n",
      "without Mask\n",
      "without Mask\n",
      "without Mask\n",
      "without Mask\n",
      "without Mask\n",
      "without Mask\n",
      "without Mask\n",
      "without Mask\n",
      "without Mask\n",
      "without Mask\n",
      "without Mask\n",
      "without Mask\n",
      "without Mask\n",
      "without Mask\n",
      "without Mask\n",
      "without Mask\n",
      "without Mask\n",
      "without Mask\n",
      "without Mask\n",
      "without Mask\n",
      "without Mask\n",
      "without Mask\n",
      "without Mask\n",
      "without Mask\n",
      "without Mask\n",
      "without Mask\n",
      "with Mask\n",
      "with Mask\n",
      "with Mask\n",
      "with Mask\n",
      "with Mask\n",
      "with Mask\n",
      "with Mask\n",
      "with Mask\n",
      "with Mask\n",
      "with Mask\n",
      "with Mask\n",
      "with Mask\n",
      "with Mask\n",
      "with Mask\n",
      "with Mask\n",
      "with Mask\n",
      "with Mask\n",
      "with Mask\n",
      "with Mask\n",
      "with Mask\n",
      "with Mask\n",
      "with Mask\n",
      "with Mask\n",
      "with Mask\n",
      "with Mask\n",
      "with Mask\n",
      "with Mask\n",
      "with Mask\n",
      "with Mask\n",
      "with Mask\n",
      "with Mask\n",
      "with Mask\n",
      "with Mask\n",
      "with Mask\n",
      "with Mask\n",
      "without Mask\n",
      "with Mask\n",
      "without Mask\n",
      "with Mask\n",
      "with Mask\n",
      "with Mask\n",
      "with Mask\n",
      "with Mask\n",
      "with Mask\n",
      "with Mask\n",
      "with Mask\n",
      "with Mask\n",
      "with Mask\n",
      "with Mask\n",
      "with Mask\n",
      "with Mask\n",
      "with Mask\n",
      "with Mask\n",
      "with Mask\n",
      "with Mask\n",
      "without Mask\n",
      "with Mask\n",
      "with Mask\n",
      "with Mask\n",
      "with Mask\n",
      "with Mask\n",
      "with Mask\n",
      "with Mask\n",
      "with Mask\n",
      "with Mask\n",
      "with Mask\n",
      "with Mask\n",
      "with Mask\n",
      "with Mask\n",
      "with Mask\n",
      "with Mask\n",
      "with Mask\n",
      "with Mask\n",
      "with Mask\n",
      "with Mask\n",
      "with Mask\n",
      "with Mask\n",
      "with Mask\n",
      "with Mask\n",
      "with Mask\n",
      "with Mask\n",
      "with Mask\n",
      "with Mask\n",
      "with Mask\n",
      "with Mask\n",
      "with Mask\n",
      "with Mask\n",
      "with Mask\n",
      "with Mask\n",
      "with Mask\n",
      "with Mask\n"
     ]
    }
   ],
   "source": [
    "capture = cv2.VideoCapture(0)\n",
    "data = []\n",
    "font = cv2.FONT_HERSHEY_COMPLEX\n",
    "while True:\n",
    "    flag, img = capture.read()\n",
    "    if flag:\n",
    "        faces = haar_data.detectMultiScale(img)\n",
    "        for x,y,w,h in faces:\n",
    "            cv2.rectangle(img, (x,y),(x+w, y+w), (0,255,0), 4)\n",
    "            face = img[y:y+h, x:x+w, :]\n",
    "            face = cv2.resize(face, (50,50))\n",
    "            face = np.array(face).reshape(-1, 50, 50, 1)\n",
    "#             face = pca.transform(face)\n",
    "            prediction = cnn.predict(face)\n",
    "            pred =0\n",
    "            if prediction[0] >0.5:\n",
    "                pred = 1\n",
    "            else:\n",
    "                pred = 0\n",
    "#             print(prediction)\n",
    "            \n",
    "            n = names[int(pred)]\n",
    "            cv2.putText(img, n, (x,y), font,1,(233,244,250),2)\n",
    "#             print(n)\n",
    "        cv2.imshow('result', img)\n",
    "        if cv2.waitKey(2) == 27:\n",
    "            break\n",
    "capture.release()\n",
    "cv2.destroyAllWindows()"
   ]
  },
  {
   "cell_type": "code",
   "execution_count": null,
   "id": "28eb7f9d",
   "metadata": {},
   "outputs": [],
   "source": []
  }
 ],
 "metadata": {
  "kernelspec": {
   "display_name": "Python 3 (ipykernel)",
   "language": "python",
   "name": "python3"
  },
  "language_info": {
   "codemirror_mode": {
    "name": "ipython",
    "version": 3
   },
   "file_extension": ".py",
   "mimetype": "text/x-python",
   "name": "python",
   "nbconvert_exporter": "python",
   "pygments_lexer": "ipython3",
   "version": "3.9.7"
  }
 },
 "nbformat": 4,
 "nbformat_minor": 5
}
